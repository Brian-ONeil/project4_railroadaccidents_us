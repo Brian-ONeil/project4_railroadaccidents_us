{
 "cells": [
  {
   "cell_type": "markdown",
   "id": "0c81460d-33db-4419-8975-d4537ad69f45",
   "metadata": {},
   "source": [
    "# Human Factor Caused Railroad Accidents in US\n",
    "## Project Goals\n",
    "\n",
    "* Find potential drivers for human factor caused railroad accidents in the US\n",
    "\n",
    "* Produce a viable model to predict human factor related railroad accidents based on particular feature input.\n",
    "\n",
    "* Propose actionable options for the FRA to change policy for railroad companies to further prevent human factor related railroad accidents."
   ]
  },
  {
   "cell_type": "code",
   "execution_count": 1,
   "id": "938f90f2-4f3f-4b84-8871-f9a0e079de85",
   "metadata": {},
   "outputs": [],
   "source": [
    "### imports\n",
    "import pandas as pd\n",
    "import numpy as np\n",
    "import matplotlib.pyplot as plt\n",
    "import seaborn as sns\n",
    "import warnings\n",
    "warnings.filterwarnings(\"ignore\")\n",
    "\n",
    "import datetime\n",
    "from datetime import timedelta, datetime\n",
    "\n",
    "# .py files\n",
    "import acquire as acq\n",
    "import prepare as prep\n",
    "import explore as exp\n",
    "\n",
    "#stats\n",
    "from sklearn.tree import DecisionTreeClassifier\n",
    "from sklearn.ensemble import RandomForestClassifier\n",
    "from sklearn.metrics import classification_report, confusion_matrix, plot_confusion_matrix\n",
    "from sklearn.model_selection import train_test_split\n",
    "from sklearn.neighbors import KNeighborsClassifier\n",
    "from sklearn.linear_model import LogisticRegression\n",
    "from sklearn.model_selection import GridSearchCV, train_test_split\n",
    "from sklearn.model_selection import GridSearchCV\n",
    "from sklearn.metrics import accuracy_score\n",
    "from scipy.stats import chi2_contingency\n",
    "from scipy.stats import ttest_ind\n",
    "from sklearn.metrics import accuracy_score\n",
    "from scipy.stats import mannwhitneyu"
   ]
  },
  {
   "cell_type": "markdown",
   "id": "7bb25c31-cfb8-4a40-85b5-6375f50db557",
   "metadata": {},
   "source": [
    "## Acquire\n",
    "* Data is pulled from the Federal Railroad Administration (FRA) accident database and loaded as four .csv's ranging from 2019-present day in the directory then joined in Python.\n",
    "* The initial dataframe loaded contains 9922 rows and 146 columns\n",
    "* Each row is an accident reported to the FRA\n",
    "* Each column is a required feature inputed into a form after an accident"
   ]
  },
  {
   "cell_type": "markdown",
   "id": "4c72311a-01a2-48e8-b2d0-09a360c6a825",
   "metadata": {},
   "source": [
    "## Prepare\n",
    "* dropped columns containing more than 50% nulls\n",
    "* converted column strings to lower case\n",
    "* after research kept columns that seemed most relevant to human performance that can cause accidents. Down to 42 columns and 9900 rows.\n",
    "* dropped insignificant amount of rows in particular columns missing a couple of key values\n",
    "* converted most columns to integers\n",
    "* replaced null values in engineer/conductor hours with the mean because I didn't want to skew the data too far left or right. It is an important feature so I felt it was the best option\n",
    "* split datframe into train, test, split and X-train, y-train etc. and then scaled the information for two continuous variables\n",
    "* encoded and created dummies for categorical columns"
   ]
  },
  {
   "cell_type": "markdown",
   "id": "910028f8-b6f7-460f-90d0-09883c5986f2",
   "metadata": {},
   "source": [
    "| Feature          | Definition                                                                       |\n",
    "|------------------|----------------------------------------------------------------------------------|\n",
    "| 'date'           | Year, Month, and Day                                                             |\n",
    "| 'timehr'         | hour of the day (1-12)                                                           |\n",
    "| 'timemin'        | minute of the hour (0-59)                                                        |\n",
    "| 'ampm'           | AM or PM indicator                                                               |\n",
    "| 'type'           | type of train (e.g. freight, passenger, work)                                    |\n",
    "| 'state'          | state where the incident occured                                                 |\n",
    "| 'temp'           | temperature in degrees fahrenheight                                              |\n",
    "| 'visibility'     | visibility measured in miles                                                     |\n",
    "| 'weather'        | weather conditions (e.g. clear/PC, rain, fog, snow                               |\n",
    "| 'trnspd'         | train speed in miles per hour                                                    |\n",
    "| 'tons'           | train weight in tons                                                             |\n",
    "| 'loadf1'         | load factor (ratio of weight of train to max allowable weight)                   |\n",
    "| 'emptyf1'        | empty factor (ratio of weight of train to min allowable weight)                  |\n",
    "| 'cause' = target | cause of incident (e.g. human error, electrical/mechanical, signal, track, misc) |\n",
    "| 'acctrk'         | contributing factors related to the track                                        |\n",
    "| 'actrkcl'        | accident classification (e.g. derailment, collision)                             |\n",
    "| 'enghr'          | number of hours worked by the engineer at the time of the incident               |\n",
    "| 'condrhr'        | number of hours worked by the conductor at the time of the incident              |"
   ]
  },
  {
   "cell_type": "code",
   "execution_count": 2,
   "id": "2c0d8dba-bd11-41d5-b7e1-b0cbe486a167",
   "metadata": {},
   "outputs": [],
   "source": [
    "# Read in the first CSV file and keep only the column titles\n",
    "df = pd.read_csv('RRD_US_2023.csv', nrows=0)\n",
    "\n",
    "# Loop through the remaining CSV files and stack them on top of the first one\n",
    "for year in range(2022, 2018, -1):\n",
    "    filename = f'RRD_US_{year}.csv'\n",
    "    temp_df = pd.read_csv(filename, header=0)\n",
    "    df = pd.concat([df, temp_df], axis=0, ignore_index=True)\n",
    "\n",
    "# Write the combined CSV file to disk\n",
    "df.to_csv('RRD_US_combined.csv', index=False)"
   ]
  },
  {
   "cell_type": "code",
   "execution_count": 3,
   "id": "c1e1e699-9c15-4616-94a6-09a0873dc104",
   "metadata": {},
   "outputs": [],
   "source": [
    "# clean data\n",
    "df = acq.clean_rrd()"
   ]
  },
  {
   "cell_type": "code",
   "execution_count": 4,
   "id": "4d7765e7-f684-428a-baf4-2592a8bdac3e",
   "metadata": {},
   "outputs": [],
   "source": [
    "# prepped data\n",
    "df = prep.prep_rrd_data()"
   ]
  },
  {
   "cell_type": "markdown",
   "id": "fac43d94-7c40-47fb-9d93-acfd191f5a1e",
   "metadata": {},
   "source": [
    "# Look at my data"
   ]
  },
  {
   "cell_type": "code",
   "execution_count": 5,
   "id": "740e00e3-5e30-4a01-a3ec-2d7cbc86942e",
   "metadata": {
    "scrolled": true,
    "tags": []
   },
   "outputs": [
    {
     "data": {
      "text/html": [
       "<div>\n",
       "<style scoped>\n",
       "    .dataframe tbody tr th:only-of-type {\n",
       "        vertical-align: middle;\n",
       "    }\n",
       "\n",
       "    .dataframe tbody tr th {\n",
       "        vertical-align: top;\n",
       "    }\n",
       "\n",
       "    .dataframe thead th {\n",
       "        text-align: right;\n",
       "    }\n",
       "</style>\n",
       "<table border=\"1\" class=\"dataframe\">\n",
       "  <thead>\n",
       "    <tr style=\"text-align: right;\">\n",
       "      <th></th>\n",
       "      <th>incdtno</th>\n",
       "      <th>date</th>\n",
       "      <th>timehr</th>\n",
       "      <th>timemin</th>\n",
       "      <th>ampm</th>\n",
       "      <th>type</th>\n",
       "      <th>state</th>\n",
       "      <th>temp</th>\n",
       "      <th>visiblty</th>\n",
       "      <th>weather</th>\n",
       "      <th>...</th>\n",
       "      <th>weather_rain</th>\n",
       "      <th>weather_snow/hail</th>\n",
       "      <th>acctrkcl_max spd 10mph or less</th>\n",
       "      <th>acctrkcl_max spd 20-25mph</th>\n",
       "      <th>acctrkcl_max spd 25-40mph</th>\n",
       "      <th>acctrkcl_max spd 40-60mph</th>\n",
       "      <th>acctrkcl_max spd 60mph or more</th>\n",
       "      <th>acctrk_leased another railroad</th>\n",
       "      <th>acctrk_owned by carrier</th>\n",
       "      <th>acctrk_trackage rights only</th>\n",
       "    </tr>\n",
       "  </thead>\n",
       "  <tbody>\n",
       "    <tr>\n",
       "      <th>0</th>\n",
       "      <td>UTA022722D</td>\n",
       "      <td>2022-03-06</td>\n",
       "      <td>10</td>\n",
       "      <td>0</td>\n",
       "      <td>AM</td>\n",
       "      <td>Derailment</td>\n",
       "      <td>West Virginia</td>\n",
       "      <td>33</td>\n",
       "      <td>&gt;1/4 mile and &lt;=1/2 mile</td>\n",
       "      <td>Blowing Dirt</td>\n",
       "      <td>...</td>\n",
       "      <td>0</td>\n",
       "      <td>0</td>\n",
       "      <td>1</td>\n",
       "      <td>0</td>\n",
       "      <td>0</td>\n",
       "      <td>0</td>\n",
       "      <td>0</td>\n",
       "      <td>1</td>\n",
       "      <td>0</td>\n",
       "      <td>0</td>\n",
       "    </tr>\n",
       "    <tr>\n",
       "      <th>1</th>\n",
       "      <td>0822MA007</td>\n",
       "      <td>2022-08-04</td>\n",
       "      <td>2</td>\n",
       "      <td>10</td>\n",
       "      <td>AM</td>\n",
       "      <td>Hazardous material release</td>\n",
       "      <td>California</td>\n",
       "      <td>81</td>\n",
       "      <td>&gt;1 mile and &lt;=2 miles</td>\n",
       "      <td>Clear/PC</td>\n",
       "      <td>...</td>\n",
       "      <td>0</td>\n",
       "      <td>0</td>\n",
       "      <td>1</td>\n",
       "      <td>0</td>\n",
       "      <td>0</td>\n",
       "      <td>0</td>\n",
       "      <td>0</td>\n",
       "      <td>1</td>\n",
       "      <td>0</td>\n",
       "      <td>0</td>\n",
       "    </tr>\n",
       "    <tr>\n",
       "      <th>2</th>\n",
       "      <td>0822MA007</td>\n",
       "      <td>2022-08-04</td>\n",
       "      <td>2</td>\n",
       "      <td>10</td>\n",
       "      <td>AM</td>\n",
       "      <td>Hazardous material release</td>\n",
       "      <td>California</td>\n",
       "      <td>81</td>\n",
       "      <td>&gt;1 mile and &lt;=2 miles</td>\n",
       "      <td>Clear/PC</td>\n",
       "      <td>...</td>\n",
       "      <td>0</td>\n",
       "      <td>0</td>\n",
       "      <td>1</td>\n",
       "      <td>0</td>\n",
       "      <td>0</td>\n",
       "      <td>0</td>\n",
       "      <td>0</td>\n",
       "      <td>1</td>\n",
       "      <td>0</td>\n",
       "      <td>0</td>\n",
       "    </tr>\n",
       "    <tr>\n",
       "      <th>3</th>\n",
       "      <td>0922NC005</td>\n",
       "      <td>2022-09-05</td>\n",
       "      <td>11</td>\n",
       "      <td>12</td>\n",
       "      <td>PM</td>\n",
       "      <td>Derailment</td>\n",
       "      <td>Colorado</td>\n",
       "      <td>83</td>\n",
       "      <td>&gt;1 mile and &lt;=2 miles</td>\n",
       "      <td>Rain</td>\n",
       "      <td>...</td>\n",
       "      <td>1</td>\n",
       "      <td>0</td>\n",
       "      <td>0</td>\n",
       "      <td>0</td>\n",
       "      <td>0</td>\n",
       "      <td>0</td>\n",
       "      <td>0</td>\n",
       "      <td>0</td>\n",
       "      <td>1</td>\n",
       "      <td>0</td>\n",
       "    </tr>\n",
       "    <tr>\n",
       "      <th>4</th>\n",
       "      <td>0922NC008</td>\n",
       "      <td>2022-09-08</td>\n",
       "      <td>10</td>\n",
       "      <td>30</td>\n",
       "      <td>AM</td>\n",
       "      <td>Derailment</td>\n",
       "      <td>Colorado</td>\n",
       "      <td>73</td>\n",
       "      <td>&gt;1/4 mile and &lt;=1/2 mile</td>\n",
       "      <td>Clear/PC</td>\n",
       "      <td>...</td>\n",
       "      <td>0</td>\n",
       "      <td>0</td>\n",
       "      <td>0</td>\n",
       "      <td>1</td>\n",
       "      <td>0</td>\n",
       "      <td>0</td>\n",
       "      <td>0</td>\n",
       "      <td>0</td>\n",
       "      <td>0</td>\n",
       "      <td>0</td>\n",
       "    </tr>\n",
       "  </tbody>\n",
       "</table>\n",
       "<p>5 rows × 36 columns</p>\n",
       "</div>"
      ],
      "text/plain": [
       "      incdtno       date  timehr  timemin ampm                        type  \\\n",
       "0  UTA022722D 2022-03-06      10        0   AM                  Derailment   \n",
       "1   0822MA007 2022-08-04       2       10   AM  Hazardous material release   \n",
       "2   0822MA007 2022-08-04       2       10   AM  Hazardous material release   \n",
       "3   0922NC005 2022-09-05      11       12   PM                  Derailment   \n",
       "4   0922NC008 2022-09-08      10       30   AM                  Derailment   \n",
       "\n",
       "           state  temp                  visiblty       weather  ...  \\\n",
       "0  West Virginia    33  >1/4 mile and <=1/2 mile  Blowing Dirt  ...   \n",
       "1     California    81     >1 mile and <=2 miles      Clear/PC  ...   \n",
       "2     California    81     >1 mile and <=2 miles      Clear/PC  ...   \n",
       "3       Colorado    83     >1 mile and <=2 miles          Rain  ...   \n",
       "4       Colorado    73  >1/4 mile and <=1/2 mile      Clear/PC  ...   \n",
       "\n",
       "   weather_rain  weather_snow/hail  acctrkcl_max spd 10mph or less  \\\n",
       "0             0                  0                               1   \n",
       "1             0                  0                               1   \n",
       "2             0                  0                               1   \n",
       "3             1                  0                               0   \n",
       "4             0                  0                               0   \n",
       "\n",
       "   acctrkcl_max spd 20-25mph acctrkcl_max spd 25-40mph  \\\n",
       "0                          0                         0   \n",
       "1                          0                         0   \n",
       "2                          0                         0   \n",
       "3                          0                         0   \n",
       "4                          1                         0   \n",
       "\n",
       "  acctrkcl_max spd 40-60mph acctrkcl_max spd 60mph or more  \\\n",
       "0                         0                              0   \n",
       "1                         0                              0   \n",
       "2                         0                              0   \n",
       "3                         0                              0   \n",
       "4                         0                              0   \n",
       "\n",
       "   acctrk_leased another railroad  acctrk_owned by carrier  \\\n",
       "0                               1                        0   \n",
       "1                               1                        0   \n",
       "2                               1                        0   \n",
       "3                               0                        1   \n",
       "4                               0                        0   \n",
       "\n",
       "   acctrk_trackage rights only  \n",
       "0                            0  \n",
       "1                            0  \n",
       "2                            0  \n",
       "3                            0  \n",
       "4                            0  \n",
       "\n",
       "[5 rows x 36 columns]"
      ]
     },
     "execution_count": 5,
     "metadata": {},
     "output_type": "execute_result"
    }
   ],
   "source": [
    "# look at dataframe\n",
    "df.head(5)"
   ]
  },
  {
   "cell_type": "code",
   "execution_count": 6,
   "id": "0726aa7c-38da-4366-9b88-2504fb1a876f",
   "metadata": {
    "scrolled": true,
    "tags": []
   },
   "outputs": [
    {
     "name": "stdout",
     "output_type": "stream",
     "text": [
      "<class 'pandas.core.frame.DataFrame'>\n",
      "Int64Index: 9900 entries, 0 to 9921\n",
      "Data columns (total 36 columns):\n",
      " #   Column                             Non-Null Count  Dtype         \n",
      "---  ------                             --------------  -----         \n",
      " 0   incdtno                            9900 non-null   object        \n",
      " 1   date                               9900 non-null   datetime64[ns]\n",
      " 2   timehr                             9900 non-null   int64         \n",
      " 3   timemin                            9900 non-null   int64         \n",
      " 4   ampm                               9900 non-null   object        \n",
      " 5   type                               9256 non-null   object        \n",
      " 6   state                              9689 non-null   object        \n",
      " 7   temp                               9900 non-null   int64         \n",
      " 8   visiblty                           9900 non-null   object        \n",
      " 9   weather                            9900 non-null   object        \n",
      " 10  trnspd                             9900 non-null   int64         \n",
      " 11  tons                               9900 non-null   int64         \n",
      " 12  loadf1                             9900 non-null   int64         \n",
      " 13  emptyf1                            9900 non-null   int64         \n",
      " 14  cause                              9900 non-null   object        \n",
      " 15  acctrk                             9900 non-null   object        \n",
      " 16  acctrkcl                           9868 non-null   object        \n",
      " 17  enghr                              9900 non-null   int64         \n",
      " 18  cdtrhr                             9900 non-null   int64         \n",
      " 19  cntycd                             9900 non-null   int64         \n",
      " 20  visiblty_>1 mile and <=2 miles     9900 non-null   uint8         \n",
      " 21  visiblty_>1/2 mile and <=1 mile    9900 non-null   uint8         \n",
      " 22  visiblty_>1/4 mile and <=1/2 mile  9900 non-null   uint8         \n",
      " 23  weather_clear/pc                   9900 non-null   uint8         \n",
      " 24  weather_crosswinds                 9900 non-null   uint8         \n",
      " 25  weather_fog/smoke                  9900 non-null   uint8         \n",
      " 26  weather_rain                       9900 non-null   uint8         \n",
      " 27  weather_snow/hail                  9900 non-null   uint8         \n",
      " 28  acctrkcl_max spd 10mph or less     9900 non-null   uint8         \n",
      " 29  acctrkcl_max spd 20-25mph          9900 non-null   uint8         \n",
      " 30  acctrkcl_max spd 25-40mph          9900 non-null   uint8         \n",
      " 31  acctrkcl_max spd 40-60mph          9900 non-null   uint8         \n",
      " 32  acctrkcl_max spd 60mph or more     9900 non-null   uint8         \n",
      " 33  acctrk_leased another railroad     9900 non-null   uint8         \n",
      " 34  acctrk_owned by carrier            9900 non-null   uint8         \n",
      " 35  acctrk_trackage rights only        9900 non-null   uint8         \n",
      "dtypes: datetime64[ns](1), int64(10), object(9), uint8(16)\n",
      "memory usage: 1.7+ MB\n"
     ]
    }
   ],
   "source": [
    "# look at info\n",
    "df.info()"
   ]
  },
  {
   "cell_type": "code",
   "execution_count": 7,
   "id": "1ce81816-c048-49b2-a0d2-420c12e2329e",
   "metadata": {
    "scrolled": true,
    "tags": []
   },
   "outputs": [
    {
     "data": {
      "text/html": [
       "<div>\n",
       "<style scoped>\n",
       "    .dataframe tbody tr th:only-of-type {\n",
       "        vertical-align: middle;\n",
       "    }\n",
       "\n",
       "    .dataframe tbody tr th {\n",
       "        vertical-align: top;\n",
       "    }\n",
       "\n",
       "    .dataframe thead th {\n",
       "        text-align: right;\n",
       "    }\n",
       "</style>\n",
       "<table border=\"1\" class=\"dataframe\">\n",
       "  <thead>\n",
       "    <tr style=\"text-align: right;\">\n",
       "      <th></th>\n",
       "      <th>count</th>\n",
       "      <th>mean</th>\n",
       "      <th>std</th>\n",
       "      <th>min</th>\n",
       "      <th>25%</th>\n",
       "      <th>50%</th>\n",
       "      <th>75%</th>\n",
       "      <th>max</th>\n",
       "    </tr>\n",
       "  </thead>\n",
       "  <tbody>\n",
       "    <tr>\n",
       "      <th>timehr</th>\n",
       "      <td>9900.0</td>\n",
       "      <td>6.431919</td>\n",
       "      <td>3.486790</td>\n",
       "      <td>1.0</td>\n",
       "      <td>3.0</td>\n",
       "      <td>6.0</td>\n",
       "      <td>9.25</td>\n",
       "      <td>12.0</td>\n",
       "    </tr>\n",
       "    <tr>\n",
       "      <th>timemin</th>\n",
       "      <td>9900.0</td>\n",
       "      <td>26.088687</td>\n",
       "      <td>17.600556</td>\n",
       "      <td>0.0</td>\n",
       "      <td>10.0</td>\n",
       "      <td>29.0</td>\n",
       "      <td>40.00</td>\n",
       "      <td>59.0</td>\n",
       "    </tr>\n",
       "    <tr>\n",
       "      <th>temp</th>\n",
       "      <td>9900.0</td>\n",
       "      <td>59.465152</td>\n",
       "      <td>21.721108</td>\n",
       "      <td>-36.0</td>\n",
       "      <td>44.0</td>\n",
       "      <td>62.0</td>\n",
       "      <td>76.00</td>\n",
       "      <td>115.0</td>\n",
       "    </tr>\n",
       "    <tr>\n",
       "      <th>trnspd</th>\n",
       "      <td>9900.0</td>\n",
       "      <td>11.220101</td>\n",
       "      <td>16.631849</td>\n",
       "      <td>0.0</td>\n",
       "      <td>2.0</td>\n",
       "      <td>5.0</td>\n",
       "      <td>10.00</td>\n",
       "      <td>135.0</td>\n",
       "    </tr>\n",
       "    <tr>\n",
       "      <th>tons</th>\n",
       "      <td>9900.0</td>\n",
       "      <td>3347.953535</td>\n",
       "      <td>4976.847329</td>\n",
       "      <td>0.0</td>\n",
       "      <td>0.0</td>\n",
       "      <td>652.0</td>\n",
       "      <td>5195.75</td>\n",
       "      <td>80043.0</td>\n",
       "    </tr>\n",
       "    <tr>\n",
       "      <th>loadf1</th>\n",
       "      <td>9900.0</td>\n",
       "      <td>26.706465</td>\n",
       "      <td>37.498195</td>\n",
       "      <td>0.0</td>\n",
       "      <td>0.0</td>\n",
       "      <td>8.0</td>\n",
       "      <td>41.00</td>\n",
       "      <td>294.0</td>\n",
       "    </tr>\n",
       "    <tr>\n",
       "      <th>emptyf1</th>\n",
       "      <td>9900.0</td>\n",
       "      <td>17.003636</td>\n",
       "      <td>30.553843</td>\n",
       "      <td>0.0</td>\n",
       "      <td>0.0</td>\n",
       "      <td>1.0</td>\n",
       "      <td>21.00</td>\n",
       "      <td>303.0</td>\n",
       "    </tr>\n",
       "    <tr>\n",
       "      <th>enghr</th>\n",
       "      <td>9900.0</td>\n",
       "      <td>4.683030</td>\n",
       "      <td>2.686866</td>\n",
       "      <td>1.0</td>\n",
       "      <td>3.0</td>\n",
       "      <td>4.0</td>\n",
       "      <td>7.00</td>\n",
       "      <td>32.0</td>\n",
       "    </tr>\n",
       "    <tr>\n",
       "      <th>cdtrhr</th>\n",
       "      <td>9900.0</td>\n",
       "      <td>4.457071</td>\n",
       "      <td>2.568641</td>\n",
       "      <td>1.0</td>\n",
       "      <td>3.0</td>\n",
       "      <td>3.0</td>\n",
       "      <td>6.00</td>\n",
       "      <td>32.0</td>\n",
       "    </tr>\n",
       "    <tr>\n",
       "      <th>cntycd</th>\n",
       "      <td>9900.0</td>\n",
       "      <td>98.572222</td>\n",
       "      <td>100.615165</td>\n",
       "      <td>1.0</td>\n",
       "      <td>31.0</td>\n",
       "      <td>73.0</td>\n",
       "      <td>121.00</td>\n",
       "      <td>800.0</td>\n",
       "    </tr>\n",
       "    <tr>\n",
       "      <th>visiblty_&gt;1 mile and &lt;=2 miles</th>\n",
       "      <td>9900.0</td>\n",
       "      <td>0.332828</td>\n",
       "      <td>0.471249</td>\n",
       "      <td>0.0</td>\n",
       "      <td>0.0</td>\n",
       "      <td>0.0</td>\n",
       "      <td>1.00</td>\n",
       "      <td>1.0</td>\n",
       "    </tr>\n",
       "    <tr>\n",
       "      <th>visiblty_&gt;1/2 mile and &lt;=1 mile</th>\n",
       "      <td>9900.0</td>\n",
       "      <td>0.109192</td>\n",
       "      <td>0.311896</td>\n",
       "      <td>0.0</td>\n",
       "      <td>0.0</td>\n",
       "      <td>0.0</td>\n",
       "      <td>0.00</td>\n",
       "      <td>1.0</td>\n",
       "    </tr>\n",
       "    <tr>\n",
       "      <th>visiblty_&gt;1/4 mile and &lt;=1/2 mile</th>\n",
       "      <td>9900.0</td>\n",
       "      <td>0.438586</td>\n",
       "      <td>0.496239</td>\n",
       "      <td>0.0</td>\n",
       "      <td>0.0</td>\n",
       "      <td>0.0</td>\n",
       "      <td>1.00</td>\n",
       "      <td>1.0</td>\n",
       "    </tr>\n",
       "    <tr>\n",
       "      <th>weather_clear/pc</th>\n",
       "      <td>9900.0</td>\n",
       "      <td>0.667576</td>\n",
       "      <td>0.471106</td>\n",
       "      <td>0.0</td>\n",
       "      <td>0.0</td>\n",
       "      <td>1.0</td>\n",
       "      <td>1.00</td>\n",
       "      <td>1.0</td>\n",
       "    </tr>\n",
       "    <tr>\n",
       "      <th>weather_crosswinds</th>\n",
       "      <td>9900.0</td>\n",
       "      <td>0.002424</td>\n",
       "      <td>0.049179</td>\n",
       "      <td>0.0</td>\n",
       "      <td>0.0</td>\n",
       "      <td>0.0</td>\n",
       "      <td>0.00</td>\n",
       "      <td>1.0</td>\n",
       "    </tr>\n",
       "    <tr>\n",
       "      <th>weather_fog/smoke</th>\n",
       "      <td>9900.0</td>\n",
       "      <td>0.008889</td>\n",
       "      <td>0.093866</td>\n",
       "      <td>0.0</td>\n",
       "      <td>0.0</td>\n",
       "      <td>0.0</td>\n",
       "      <td>0.00</td>\n",
       "      <td>1.0</td>\n",
       "    </tr>\n",
       "    <tr>\n",
       "      <th>weather_rain</th>\n",
       "      <td>9900.0</td>\n",
       "      <td>0.233434</td>\n",
       "      <td>0.423038</td>\n",
       "      <td>0.0</td>\n",
       "      <td>0.0</td>\n",
       "      <td>0.0</td>\n",
       "      <td>0.00</td>\n",
       "      <td>1.0</td>\n",
       "    </tr>\n",
       "    <tr>\n",
       "      <th>weather_snow/hail</th>\n",
       "      <td>9900.0</td>\n",
       "      <td>0.067172</td>\n",
       "      <td>0.250332</td>\n",
       "      <td>0.0</td>\n",
       "      <td>0.0</td>\n",
       "      <td>0.0</td>\n",
       "      <td>0.00</td>\n",
       "      <td>1.0</td>\n",
       "    </tr>\n",
       "    <tr>\n",
       "      <th>acctrkcl_max spd 10mph or less</th>\n",
       "      <td>9900.0</td>\n",
       "      <td>0.654141</td>\n",
       "      <td>0.475671</td>\n",
       "      <td>0.0</td>\n",
       "      <td>0.0</td>\n",
       "      <td>1.0</td>\n",
       "      <td>1.00</td>\n",
       "      <td>1.0</td>\n",
       "    </tr>\n",
       "    <tr>\n",
       "      <th>acctrkcl_max spd 20-25mph</th>\n",
       "      <td>9900.0</td>\n",
       "      <td>0.068081</td>\n",
       "      <td>0.251897</td>\n",
       "      <td>0.0</td>\n",
       "      <td>0.0</td>\n",
       "      <td>0.0</td>\n",
       "      <td>0.00</td>\n",
       "      <td>1.0</td>\n",
       "    </tr>\n",
       "    <tr>\n",
       "      <th>acctrkcl_max spd 25-40mph</th>\n",
       "      <td>9900.0</td>\n",
       "      <td>0.154747</td>\n",
       "      <td>0.361682</td>\n",
       "      <td>0.0</td>\n",
       "      <td>0.0</td>\n",
       "      <td>0.0</td>\n",
       "      <td>0.00</td>\n",
       "      <td>1.0</td>\n",
       "    </tr>\n",
       "    <tr>\n",
       "      <th>acctrkcl_max spd 40-60mph</th>\n",
       "      <td>9900.0</td>\n",
       "      <td>0.031717</td>\n",
       "      <td>0.175255</td>\n",
       "      <td>0.0</td>\n",
       "      <td>0.0</td>\n",
       "      <td>0.0</td>\n",
       "      <td>0.00</td>\n",
       "      <td>1.0</td>\n",
       "    </tr>\n",
       "    <tr>\n",
       "      <th>acctrkcl_max spd 60mph or more</th>\n",
       "      <td>9900.0</td>\n",
       "      <td>0.005152</td>\n",
       "      <td>0.071593</td>\n",
       "      <td>0.0</td>\n",
       "      <td>0.0</td>\n",
       "      <td>0.0</td>\n",
       "      <td>0.00</td>\n",
       "      <td>1.0</td>\n",
       "    </tr>\n",
       "    <tr>\n",
       "      <th>acctrk_leased another railroad</th>\n",
       "      <td>9900.0</td>\n",
       "      <td>0.562929</td>\n",
       "      <td>0.496049</td>\n",
       "      <td>0.0</td>\n",
       "      <td>0.0</td>\n",
       "      <td>1.0</td>\n",
       "      <td>1.00</td>\n",
       "      <td>1.0</td>\n",
       "    </tr>\n",
       "    <tr>\n",
       "      <th>acctrk_owned by carrier</th>\n",
       "      <td>9900.0</td>\n",
       "      <td>0.334444</td>\n",
       "      <td>0.471820</td>\n",
       "      <td>0.0</td>\n",
       "      <td>0.0</td>\n",
       "      <td>0.0</td>\n",
       "      <td>1.00</td>\n",
       "      <td>1.0</td>\n",
       "    </tr>\n",
       "    <tr>\n",
       "      <th>acctrk_trackage rights only</th>\n",
       "      <td>9900.0</td>\n",
       "      <td>0.082121</td>\n",
       "      <td>0.274563</td>\n",
       "      <td>0.0</td>\n",
       "      <td>0.0</td>\n",
       "      <td>0.0</td>\n",
       "      <td>0.00</td>\n",
       "      <td>1.0</td>\n",
       "    </tr>\n",
       "  </tbody>\n",
       "</table>\n",
       "</div>"
      ],
      "text/plain": [
       "                                    count         mean          std   min  \\\n",
       "timehr                             9900.0     6.431919     3.486790   1.0   \n",
       "timemin                            9900.0    26.088687    17.600556   0.0   \n",
       "temp                               9900.0    59.465152    21.721108 -36.0   \n",
       "trnspd                             9900.0    11.220101    16.631849   0.0   \n",
       "tons                               9900.0  3347.953535  4976.847329   0.0   \n",
       "loadf1                             9900.0    26.706465    37.498195   0.0   \n",
       "emptyf1                            9900.0    17.003636    30.553843   0.0   \n",
       "enghr                              9900.0     4.683030     2.686866   1.0   \n",
       "cdtrhr                             9900.0     4.457071     2.568641   1.0   \n",
       "cntycd                             9900.0    98.572222   100.615165   1.0   \n",
       "visiblty_>1 mile and <=2 miles     9900.0     0.332828     0.471249   0.0   \n",
       "visiblty_>1/2 mile and <=1 mile    9900.0     0.109192     0.311896   0.0   \n",
       "visiblty_>1/4 mile and <=1/2 mile  9900.0     0.438586     0.496239   0.0   \n",
       "weather_clear/pc                   9900.0     0.667576     0.471106   0.0   \n",
       "weather_crosswinds                 9900.0     0.002424     0.049179   0.0   \n",
       "weather_fog/smoke                  9900.0     0.008889     0.093866   0.0   \n",
       "weather_rain                       9900.0     0.233434     0.423038   0.0   \n",
       "weather_snow/hail                  9900.0     0.067172     0.250332   0.0   \n",
       "acctrkcl_max spd 10mph or less     9900.0     0.654141     0.475671   0.0   \n",
       "acctrkcl_max spd 20-25mph          9900.0     0.068081     0.251897   0.0   \n",
       "acctrkcl_max spd 25-40mph          9900.0     0.154747     0.361682   0.0   \n",
       "acctrkcl_max spd 40-60mph          9900.0     0.031717     0.175255   0.0   \n",
       "acctrkcl_max spd 60mph or more     9900.0     0.005152     0.071593   0.0   \n",
       "acctrk_leased another railroad     9900.0     0.562929     0.496049   0.0   \n",
       "acctrk_owned by carrier            9900.0     0.334444     0.471820   0.0   \n",
       "acctrk_trackage rights only        9900.0     0.082121     0.274563   0.0   \n",
       "\n",
       "                                    25%    50%      75%      max  \n",
       "timehr                              3.0    6.0     9.25     12.0  \n",
       "timemin                            10.0   29.0    40.00     59.0  \n",
       "temp                               44.0   62.0    76.00    115.0  \n",
       "trnspd                              2.0    5.0    10.00    135.0  \n",
       "tons                                0.0  652.0  5195.75  80043.0  \n",
       "loadf1                              0.0    8.0    41.00    294.0  \n",
       "emptyf1                             0.0    1.0    21.00    303.0  \n",
       "enghr                               3.0    4.0     7.00     32.0  \n",
       "cdtrhr                              3.0    3.0     6.00     32.0  \n",
       "cntycd                             31.0   73.0   121.00    800.0  \n",
       "visiblty_>1 mile and <=2 miles      0.0    0.0     1.00      1.0  \n",
       "visiblty_>1/2 mile and <=1 mile     0.0    0.0     0.00      1.0  \n",
       "visiblty_>1/4 mile and <=1/2 mile   0.0    0.0     1.00      1.0  \n",
       "weather_clear/pc                    0.0    1.0     1.00      1.0  \n",
       "weather_crosswinds                  0.0    0.0     0.00      1.0  \n",
       "weather_fog/smoke                   0.0    0.0     0.00      1.0  \n",
       "weather_rain                        0.0    0.0     0.00      1.0  \n",
       "weather_snow/hail                   0.0    0.0     0.00      1.0  \n",
       "acctrkcl_max spd 10mph or less      0.0    1.0     1.00      1.0  \n",
       "acctrkcl_max spd 20-25mph           0.0    0.0     0.00      1.0  \n",
       "acctrkcl_max spd 25-40mph           0.0    0.0     0.00      1.0  \n",
       "acctrkcl_max spd 40-60mph           0.0    0.0     0.00      1.0  \n",
       "acctrkcl_max spd 60mph or more      0.0    0.0     0.00      1.0  \n",
       "acctrk_leased another railroad      0.0    1.0     1.00      1.0  \n",
       "acctrk_owned by carrier             0.0    0.0     1.00      1.0  \n",
       "acctrk_trackage rights only         0.0    0.0     0.00      1.0  "
      ]
     },
     "execution_count": 7,
     "metadata": {},
     "output_type": "execute_result"
    }
   ],
   "source": [
    "## A summary of my data\n",
    "df.describe().T"
   ]
  },
  {
   "cell_type": "code",
   "execution_count": 8,
   "id": "6e974e70-7894-46ff-9b81-c6972854b51f",
   "metadata": {},
   "outputs": [
    {
     "name": "stdout",
     "output_type": "stream",
     "text": [
      "Train shape: (5939, 36)\n",
      "Validate shape: (1980, 36)\n",
      "Test shape: (1980, 36)\n"
     ]
    }
   ],
   "source": [
    "# split and see shape of data\n",
    "train, val, test = prep.split_data(\n",
    "    df, train_size=0.6, val_size=0.2, \n",
    "    test_size=0.2, random_state=123)\n",
    "print('Train shape:', train.shape)\n",
    "print('Validate shape:', val.shape)\n",
    "print('Test shape:', test.shape)"
   ]
  },
  {
   "cell_type": "markdown",
   "id": "21caddef-c553-4714-9ecf-8d04213acf34",
   "metadata": {},
   "source": [
    "## Explore"
   ]
  },
  {
   "cell_type": "markdown",
   "id": "4180518b-1595-46b5-84ae-b41d7811df7e",
   "metadata": {},
   "source": [
    "### Does visibility affect human factor caused accidents?"
   ]
  },
  {
   "cell_type": "code",
   "execution_count": 9,
   "id": "facceb8e-5c0d-44a1-9c18-0d51ab3998b1",
   "metadata": {},
   "outputs": [
    {
     "data": {
      "image/png": "[encoded data removed]",
      "text/plain": [
       "<Figure size 1200x800 with 1 Axes>"
      ]
     },
     "metadata": {},
     "output_type": "display_data"
    }
   ],
   "source": [
    "exp.visibility_plot(train)"
   ]
  },
  {
   "cell_type": "markdown",
   "id": "7695b29f-7910-489c-a787-ee1229a6b94f",
   "metadata": {},
   "source": [
    "* Between >= 1/4 mile and <= 1/2 mile visibility it seems more proportional to the population of accidents, however, when visibility  is >= 1/2 mile it looks like it human factor accidents have a larger proportion of the overall accidents.\n",
    "\n",
    "* The chi-squared test of independence tests the null hypothesis that there is no relationship between the two variables (cause and visibility) in the accident population. If the p-value is less than the significance level (e.g., 0.05), we reject the null hypothesis and conclude that there is a significant relationship between the two variables.\n",
    "\n",
    "* $H0$ = There is a relationship between cause and visibility\n",
    "* $Ha$ = There is a relationship between cause and visibility"
   ]
  },
  {
   "cell_type": "code",
   "execution_count": 10,
   "id": "bcc238e7-0fb0-414c-a504-704f4c5b3aa0",
   "metadata": {},
   "outputs": [
    {
     "name": "stdout",
     "output_type": "stream",
     "text": [
      "Chi-squared statistic: 22.844968111568704\n",
      "p-value: 4.350195748698547e-05\n"
     ]
    }
   ],
   "source": [
    "# get visibility chi2 stat\n",
    "exp.visibility_stat(train)"
   ]
  },
  {
   "cell_type": "markdown",
   "id": "5ba8495e-90f8-40ca-90a5-3dc41eecce3d",
   "metadata": {},
   "source": [
    "* The p-value is less than the 0.05 alpha. Therefore we reject the null hypothesis and there is evidence of a relationship between cause and visibility. We will send it on to modeling."
   ]
  },
  {
   "cell_type": "markdown",
   "id": "2fbcab5d-67c2-48ba-a935-34bf74bb0533",
   "metadata": {},
   "source": [
    "### Does weather affect human factor caused accidents?"
   ]
  },
  {
   "cell_type": "code",
   "execution_count": 11,
   "id": "2d42c51c-3699-4afc-b32c-228a4988d6d4",
   "metadata": {},
   "outputs": [
    {
     "data": {
      "image/png": "[encoded data removed]",
      "text/plain": [
       "<Figure size 1200x800 with 1 Axes>"
      ]
     },
     "metadata": {},
     "output_type": "display_data"
    }
   ],
   "source": [
    "exp.weather_plot(train)"
   ]
  },
  {
   "cell_type": "markdown",
   "id": "b6b6bf26-ec20-4451-be4f-bea1dc1d343d",
   "metadata": {},
   "source": [
    "* Looking into the different types of weather in the plot it doesn't seem to have much of a disproportion when compared to clear/pc conditions.\n",
    "\n",
    "* The chi-squared test of independence tests the null hypothesis that there is no relationship between the two variables (cause and weather) in the accident population. If the p-value is less than the significance level (e.g., 0.05), we reject the null hypothesis and conclude that there is a significant relationship between the two variables.\n",
    "\n",
    "* $H0$ = There is a relationship between cause and weather\n",
    "* $Ha$ = There is a relationship between cause and weather"
   ]
  },
  {
   "cell_type": "code",
   "execution_count": 12,
   "id": "1dfe1c00-beed-4121-bcb8-2c2f0f6596ec",
   "metadata": {},
   "outputs": [
    {
     "name": "stdout",
     "output_type": "stream",
     "text": [
      "Chi-squared statistic: 24.991392540259763\n",
      "p-value: 0.00013986800540663016\n"
     ]
    }
   ],
   "source": [
    "# get weather chi2 stat\n",
    "exp.weather_stat(train)"
   ]
  },
  {
   "cell_type": "markdown",
   "id": "3f13c9c4-773b-44b4-b50a-c6bb027f31bc",
   "metadata": {},
   "source": [
    "* The p-value is slightly less than the 0.05 alpha. Therefore we reject the null hypothesis and there is evidence of a weak relationship between cause and visibility. We will send it on to modeling."
   ]
  },
  {
   "cell_type": "markdown",
   "id": "ebd62dd4-ee72-48ed-a679-ac9d793a2072",
   "metadata": {},
   "source": [
    "### Does conductor work hours affect human factor caused accidents?"
   ]
  },
  {
   "cell_type": "code",
   "execution_count": 13,
   "id": "5a9390d4-3c63-4008-94f5-f131db8af40a",
   "metadata": {},
   "outputs": [
    {
     "data": {
      "image/png": "[encoded data removed]",
      "text/plain": [
       "<Figure size 640x480 with 1 Axes>"
      ]
     },
     "metadata": {},
     "output_type": "display_data"
    }
   ],
   "source": [
    "# get conductor hours plot\n",
    "exp.cdthr_plot(train)"
   ]
  },
  {
   "cell_type": "markdown",
   "id": "4fc77e02-7583-4e91-91eb-253c041a8a17",
   "metadata": {},
   "source": [
    "* It seems there is a slightly higher mean for human factor accidents over other.\n",
    "\n",
    "* The mann_whitney tests the null hypothesis that there is no difference between the means of the two groups (cause and cdtrhr) in the population. If the p-value is less than the significance level (e.g., 0.05), we reject the null hypothesis and conclude that there is a significant difference between the means of the two groups.\n",
    "\n",
    "* $H0$ = There is no difference between cdtrhr hours means for those who had human factor accidents and those that were not human factor accidents\n",
    "* $Ha$ = There is a difference between cdtrhr hours means for those who had human factor accidents and those that were not human factor accidents"
   ]
  },
  {
   "cell_type": "code",
   "execution_count": 14,
   "id": "a288b12e-cdd1-4357-bd3a-58e23d70c543",
   "metadata": {},
   "outputs": [
    {
     "name": "stdout",
     "output_type": "stream",
     "text": [
      "Mann-Whitney U test results:\n",
      "Statistic: 4097801.0\n",
      "p-value: 0.005661266681436928\n"
     ]
    }
   ],
   "source": [
    "# get conductor hours Mann-Whit stat\n",
    "exp.cdtrhr_stat(train)"
   ]
  },
  {
   "cell_type": "markdown",
   "id": "2679aa79-258c-45c8-b1f8-0578d7a6a3da",
   "metadata": {},
   "source": [
    "* The p-value is less than the 0.05 significance level so we will reject the null hypothesis and will send train conductor hours to modeling"
   ]
  },
  {
   "cell_type": "markdown",
   "id": "67a2b01d-a5e4-457b-ae3c-a0cb21547505",
   "metadata": {},
   "source": [
    "### Does train speed affect human factor caused accidents?"
   ]
  },
  {
   "cell_type": "code",
   "execution_count": 15,
   "id": "cb862ff1-1b3c-49e1-bb53-beeb8c0f4941",
   "metadata": {},
   "outputs": [
    {
     "data": {
      "image/png": "[encoded data removed]",
      "text/plain": [
       "<Figure size 640x480 with 1 Axes>"
      ]
     },
     "metadata": {},
     "output_type": "display_data"
    }
   ],
   "source": [
    "# get trainspeed plot\n",
    "exp.trnspd_plot(train)"
   ]
  },
  {
   "cell_type": "markdown",
   "id": "1d0f3417-8bb0-4fa2-bcfe-759b78946a31",
   "metadata": {},
   "source": [
    "* It visually seems there is no difference concerning trainspeed when it comes to human factor accidents means and actually it looks less than all other accidents.\n",
    "\n",
    "* The mann-whitney tests the null hypothesis that there is difference between the means of the two groups (cause and trnspd) in the population. If the p-value is less than the significance level (e.g., 0.05), we reject the null hypothesis and conclude that there is a significant difference between the means of the two groups.\n",
    "\n",
    "* $H0$ = There is no difference between trnspd hours means for those who had human factor accidents and those that were not human factor accidents\n",
    "* $Ha$ = There is a difference between trnspd hours means for those who had human factor accidents and those that were not human factor accidents"
   ]
  },
  {
   "cell_type": "code",
   "execution_count": 16,
   "id": "bb68f306-5eb1-48e3-88f1-847ea1a51e00",
   "metadata": {},
   "outputs": [
    {
     "name": "stdout",
     "output_type": "stream",
     "text": [
      "Mann-Whitney U test results:\n",
      "Statistic: 3064742.5\n",
      "p-value: 2.1638787633218512e-77\n"
     ]
    }
   ],
   "source": [
    "# get trainspeed stat test\n",
    "exp.trnspd_stat(train)"
   ]
  },
  {
   "cell_type": "markdown",
   "id": "4db2ac2e-7c7a-48ec-aac2-61461b0b41e9",
   "metadata": {},
   "source": [
    "* The p-value is less than the 0.05 significance level so we reject the null hypothesis and will send train speed to modeling"
   ]
  },
  {
   "cell_type": "markdown",
   "id": "7b63704d-ab3b-4574-b5c6-479ee8abe583",
   "metadata": {},
   "source": [
    "### Exploration Summary\n",
    "* visibility has a relationship with cause (human factor) with a p value of: 4.350195748698547e-05\n",
    "* weather has a weak relationship with cause (human factor) with a p value of: 0.00013986800540663016\n",
    "* The p-value is less than the 0.05 significance level so we will reject the null hypothesis and will send train conductor hours to modeling. p value: 0.005661266681436928\n",
    "* The p-value is less than the 0.05 significance level so we reject the null hypothesis and will send train speed to modeling. p value: 2.1638787633218512e-77"
   ]
  },
  {
   "cell_type": "markdown",
   "id": "e44f65b9-6066-4fbc-9714-c7a7553254bd",
   "metadata": {},
   "source": [
    "## Modeling\n",
    "* The purpose of modeling the features I have selected is to find the most accurate model for predicting whether or not a human factor related accident will occur.\n",
    "* The baseline accuracy we are trying to beat is 58%. I will be using a Decision Tree, Random Forest, Logistic Regression, and KNearest models to try to find the best model. I will also be using a grid search to find the optimal hyperparameters with the highest accuracy scores."
   ]
  },
  {
   "cell_type": "markdown",
   "id": "0d47ef96-a64d-41ba-a86c-a257cb0d4e1e",
   "metadata": {},
   "source": [
    "### Features I will model\n",
    "* Visibility\n",
    "* Weather\n",
    "* Conductor Hours\n",
    "* Train Speed"
   ]
  },
  {
   "cell_type": "markdown",
   "id": "d53ff6b7-b454-4205-84fc-9ea7a7c91fd4",
   "metadata": {},
   "source": [
    "### Prep Data for Modeling"
   ]
  },
  {
   "cell_type": "code",
   "execution_count": 17,
   "id": "e2bc209e-96c7-4751-8d6e-a9bece6fc352",
   "metadata": {},
   "outputs": [
    {
     "data": {
      "text/plain": [
       "0.588988045125442"
      ]
     },
     "execution_count": 17,
     "metadata": {},
     "output_type": "execute_result"
    }
   ],
   "source": [
    "#calculate baseline accuracy\n",
    "baseline_accuracy = 3498 / (3498+2441)\n",
    "baseline_accuracy"
   ]
  },
  {
   "cell_type": "code",
   "execution_count": 18,
   "id": "17526f6d-b48c-43c7-a99e-e5e37e7b0adf",
   "metadata": {},
   "outputs": [],
   "source": [
    "# Get X_train\n",
    "X_train, X_val, X_test, y_train, y_val, y_test = prep.X_train_data(train, val, test)"
   ]
  },
  {
   "cell_type": "code",
   "execution_count": 19,
   "id": "ea006e0c-50d9-4c18-b64b-3c7affcf79ee",
   "metadata": {
    "tags": []
   },
   "outputs": [],
   "source": [
    "# Create X_train scaled\n",
    "X_train_scaled, y_train, X_val_scaled, y_val, X_test_scaled, y_test = prep.scaled_data(X_train, X_val, X_test, y_train, y_val, y_test)\n"
   ]
  },
  {
   "cell_type": "markdown",
   "id": "80b00652-b4f5-4ab4-b2e0-588c51456cd9",
   "metadata": {},
   "source": [
    "### Decision Tree Classifier"
   ]
  },
  {
   "cell_type": "code",
   "execution_count": 20,
   "id": "98e448be-38b4-4ace-97c4-f3d2b3cf1e36",
   "metadata": {},
   "outputs": [
    {
     "name": "stdout",
     "output_type": "stream",
     "text": [
      "Training Accuracy: 0.6708200033675703\n",
      "Validation Accuracy: 0.6166666666666667\n"
     ]
    }
   ],
   "source": [
    "# Get Decision Tree Classifier\n",
    "exp.DTC_model(X_train_scaled, y_train, X_val_scaled, y_val, X_test_scaled, y_test)"
   ]
  },
  {
   "cell_type": "markdown",
   "id": "1da88327-800b-4aeb-9543-6910294e171d",
   "metadata": {},
   "source": [
    "### Random Forest Classifier"
   ]
  },
  {
   "cell_type": "code",
   "execution_count": 21,
   "id": "c8f863f9-2385-4b25-ba78-b00746510e1b",
   "metadata": {},
   "outputs": [
    {
     "name": "stdout",
     "output_type": "stream",
     "text": [
      "Training Accuracy: 0.6406802492002021\n",
      "Validation Accuracy: 0.6378787878787879\n"
     ]
    }
   ],
   "source": [
    "# Get RF Model\n",
    "exp.RF_model(X_train_scaled, y_train, X_val_scaled,\n",
    "         y_val, X_test_scaled, y_test)"
   ]
  },
  {
   "cell_type": "markdown",
   "id": "90ebfae2-3441-4687-8f6e-5f241f92ffb9",
   "metadata": {},
   "source": [
    "### Logistic Regression"
   ]
  },
  {
   "cell_type": "code",
   "execution_count": 22,
   "id": "3077ec38-85f8-4637-8e4a-467587cbb3e6",
   "metadata": {},
   "outputs": [
    {
     "name": "stdout",
     "output_type": "stream",
     "text": [
      "Training Accuracy: 0.6056575181006904\n",
      "Validation Accuracy: 0.6181818181818182\n"
     ]
    }
   ],
   "source": [
    "# Get LR Model\n",
    "exp.lr_model(X_train_scaled, y_train, X_val_scaled, \n",
    "             y_val, X_test_scaled, y_test)"
   ]
  },
  {
   "cell_type": "markdown",
   "id": "167b4535-80b0-44ca-be30-30e04e7b706d",
   "metadata": {},
   "source": [
    "### KNN Model"
   ]
  },
  {
   "cell_type": "code",
   "execution_count": 23,
   "id": "9afd796e-4ff2-4173-a36c-d77312d4635d",
   "metadata": {},
   "outputs": [
    {
     "name": "stdout",
     "output_type": "stream",
     "text": [
      "Training Accuracy: 0.6719986529718808\n",
      "Validation Accuracy: 0.5848484848484848\n"
     ]
    }
   ],
   "source": [
    "# Get KNN Model\n",
    "exp.knn_model(X_train_scaled, y_train, X_val_scaled, \n",
    "              y_val, X_test_scaled, y_test)"
   ]
  },
  {
   "cell_type": "markdown",
   "id": "8810dbcb-826e-412b-a8b5-6cdd6f2cfe16",
   "metadata": {},
   "source": [
    "## Comparing Models\n",
    "* Baseline: 58.9\n",
    "* The Decision Tree Model yielded a train accuracy of 67.05 and a validate accuracy of 61.72\n",
    "* The Random Forest Model yielded a train accuracy of 63.90 and a validate accuracy of 63.94\n",
    "* The Logistics Regression Model yielded a train accuracy of 60.57 and a validate accuracy of 61.82\n",
    "* The KNN Model yielded a train accuracy of 67.20 and a validate accuracy of 58.49\n",
    "\n",
    "## Model Selection\n",
    "* The Random Forest maintained a 63.92% average accuracy with only a 0.4 differential in both train and validate. The DT and KNN models overfit. All models beat the baseline, but they only moderately beat the baseline. Although, a small accuracy improvement over baseline I feel the Random Forest is the highest accuracy average and consistency. We will move forward with a Random Forest Model using the final test data set."
   ]
  },
  {
   "cell_type": "markdown",
   "id": "a55cd0d0-d2ee-4f76-92b0-53e648525000",
   "metadata": {},
   "source": [
    "### Random Forest (Best Model) Test"
   ]
  },
  {
   "cell_type": "code",
   "execution_count": 24,
   "id": "ba647085-ccf4-4da4-b8bf-f540ea969fe9",
   "metadata": {},
   "outputs": [
    {
     "name": "stdout",
     "output_type": "stream",
     "text": [
      "Test Accuracy: 0.6161616161616161\n"
     ]
    }
   ],
   "source": [
    "exp.rf_test_model(X_train_scaled, y_train, X_val_scaled, \n",
    "              y_val, X_test_scaled, y_test)"
   ]
  },
  {
   "cell_type": "markdown",
   "id": "afdfb8b7-f85e-49a5-8fdd-e4ef1a85c37c",
   "metadata": {},
   "source": [
    "### Modeling Summary\n",
    "* The Random Forest Model maintained over a 61.62% accuracy between train, validate, and test. The test set scored a 61.62%% and beat the baseline by ~3%.\n",
    "* I would continue to try and imrove the current model and features as currently it is not a great viable prediction model."
   ]
  },
  {
   "cell_type": "markdown",
   "id": "66a5205d-1aa6-45b7-9fa9-93128a630b93",
   "metadata": {},
   "source": [
    "## Conclusions"
   ]
  },
  {
   "cell_type": "markdown",
   "id": "78c36e71-75af-4254-9379-46dfaf199219",
   "metadata": {},
   "source": [
    "### Exploration\n",
    "* The statistical modeling showed some relationships with weather and visibility when compared to a subpopulation of human factor caused accidents. \n",
    "* Both p-values for weather and visibility proved a relationship to the human factor cause when compared to against all other cause categories.\n",
    "* Statistical modeling when comparing the means of conductor hours with human factor causes and conductor hours with other accident causes did did show significance.\n",
    "* We also found significance when comparing means of train speed with human factor caused accidents and other accidents.\n",
    "* Weather, visibility, conductor hours, train speed were sent forward for modeling."
   ]
  },
  {
   "cell_type": "markdown",
   "id": "72588a2f-115a-488f-95b8-b832a0669c43",
   "metadata": {},
   "source": [
    "### Modeling\n",
    "* The final Random Forest Model on the test data set decreased accuracy, but beat the baseline by almost 3%.\n",
    "* It is my opinion there needs to be more viable features added to the models to find any worthy prediction accuracy."
   ]
  },
  {
   "cell_type": "markdown",
   "id": "8e4e97a5-3413-4f5b-a869-4f9e77319398",
   "metadata": {},
   "source": [
    "### Recommendations\n",
    "* The Federal Railroad Administration should consider revamping their accident report forms and policy to include more questions that affect human and job performance on their operators such as:\n",
    "    * hours of sleep\n",
    "    * days off\n",
    "    * training certifications (incomplete or expired)\n",
    "    * experience level\n",
    "    * time in that position (new or senior)\n",
    "* It is important to remember that human factors are the leading railroad accident cause that accounts for ~40% of all accidents. There is always room for improvement when it comes to human related accidents and it's a worthy investment to explore further the causes."
   ]
  },
  {
   "cell_type": "markdown",
   "id": "4deec701-2d82-4fb1-9fc5-4d267f68087e",
   "metadata": {},
   "source": [
    "## Next Steps\n",
    "* If I had more time I would consider bringing in more features such as feature engineering timedate and binning the different shifts into subpopulations.\n",
    "* Also consider the day of the week the accidents happen such as a weekday versus weekends."
   ]
  },
  {
   "cell_type": "code",
   "execution_count": null,
   "id": "b9be0e10-4bea-4c8d-bd08-41fda184be08",
   "metadata": {},
   "outputs": [],
   "source": []
  }
 ],
 "metadata": {
  "kernelspec": {
   "display_name": "Python 3 (ipykernel)",
   "language": "python",
   "name": "python3"
  },
  "language_info": {
   "codemirror_mode": {
    "name": "ipython",
    "version": 3
   },
   "file_extension": ".py",
   "mimetype": "text/x-python",
   "name": "python",
   "nbconvert_exporter": "python",
   "pygments_lexer": "ipython3",
   "version": "3.9.13"
  }
 },
 "nbformat": 4,
 "nbformat_minor": 5
}
