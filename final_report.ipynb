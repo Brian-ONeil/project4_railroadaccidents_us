{
 "cells": [
  {
   "cell_type": "markdown",
   "id": "0c81460d-33db-4419-8975-d4537ad69f45",
   "metadata": {},
   "source": [
    "# Human Factor Caused Railroad Accidents in US\n",
    "## Project Goals\n",
    "\n",
    "* Find potential drivers for human factor caused railroad accidents in the US\n",
    "\n",
    "* Produce a viable model to predict high risk factors contributing to human factor related railroad accidents.\n",
    "\n",
    "* Propose actionable options for the FRA to change policy for railroad companies to further prevent human factor related railroad accidents."
   ]
  },
  {
   "cell_type": "code",
   "execution_count": 2,
   "id": "938f90f2-4f3f-4b84-8871-f9a0e079de85",
   "metadata": {},
   "outputs": [
    {
     "ename": "SyntaxError",
     "evalue": "invalid non-printable character U+200B (explore.py, line 156)",
     "output_type": "error",
     "traceback": [
      "Traceback \u001b[0;36m(most recent call last)\u001b[0m:\n",
      "  File \u001b[1;32m/opt/homebrew/anaconda3/lib/python3.9/site-packages/IPython/core/interactiveshell.py:3398\u001b[0m in \u001b[1;35mrun_code\u001b[0m\n    exec(code_obj, self.user_global_ns, self.user_ns)\n",
      "\u001b[0;36m  Input \u001b[0;32mIn [2]\u001b[0;36m in \u001b[0;35m<cell line: 15>\u001b[0;36m\u001b[0m\n\u001b[0;31m    import explore as exp\u001b[0m\n",
      "\u001b[0;36m  File \u001b[0;32m~/codeup-data-science/project4_railroadaccidents_us/explore.py:156\u001b[0;36m\u001b[0m\n\u001b[0;31m    ​\u001b[0m\n\u001b[0m    ^\u001b[0m\n\u001b[0;31mSyntaxError\u001b[0m\u001b[0;31m:\u001b[0m invalid non-printable character U+200B\n"
     ]
    }
   ],
   "source": [
    "### imports\n",
    "import pandas as pd\n",
    "import numpy as np\n",
    "import matplotlib.pyplot as plt\n",
    "import seaborn as sns\n",
    "import warnings\n",
    "warnings.filterwarnings(\"ignore\")\n",
    "\n",
    "import datetime\n",
    "from datetime import timedelta, datetime\n",
    "\n",
    "# .py files\n",
    "import acquire as acq\n",
    "import prepare as prep\n",
    "import explore as exp\n",
    "\n",
    "#stats\n",
    "from sklearn.tree import DecisionTreeClassifier\n",
    "from sklearn.ensemble import RandomForestClassifier\n",
    "from sklearn.metrics import classification_report, confusion_matrix, plot_confusion_matrix\n",
    "from sklearn.model_selection import train_test_split\n",
    "from sklearn.neighbors import KNeighborsClassifier\n",
    "from sklearn.linear_model import LogisticRegression\n",
    "from sklearn.model_selection import GridSearchCV, train_test_split\n",
    "from sklearn.model_selection import GridSearchCV\n",
    "from sklearn.metrics import accuracy_score\n",
    "from scipy.stats import chi2_contingency\n",
    "from scipy.stats import ttest_ind\n",
    "from sklearn.metrics import accuracy_score\n",
    "from scipy.stats import mannwhitneyu"
   ]
  },
  {
   "cell_type": "markdown",
   "id": "7bb25c31-cfb8-4a40-85b5-6375f50db557",
   "metadata": {},
   "source": [
    "## Acquire\n",
    "* Data is pulled from the Federal Railroad Administration (FRA) accident database and loaded as four .csv's ranging from 2019-present day in the directory then joined in Python.\n",
    "* The initial dataframe loaded contains 9922 rows and 146 columns\n",
    "* Each row is an accident reported to the FRA\n",
    "* Each column is a required feature inputed into a form after an accident"
   ]
  },
  {
   "cell_type": "markdown",
   "id": "4c72311a-01a2-48e8-b2d0-09a360c6a825",
   "metadata": {},
   "source": [
    "## Prepare\n",
    "* dropped columns containin more than 50% nulls\n",
    "* converted column strings to lower case\n",
    "* after research kept columns that seemed most relevant. Down to 42 columns and 9900 rows.\n",
    "* dropped insignificant amount of rows in particular columns\n",
    "* converted most columns to integers\n",
    "* replaced null values in engineer/conductor hours with the mean\n",
    "* split datframe into train, test, split and X-train, y-train etc.\n",
    "* encoded and created dummies from categorical columns"
   ]
  },
  {
   "cell_type": "markdown",
   "id": "910028f8-b6f7-460f-90d0-09883c5986f2",
   "metadata": {},
   "source": [
    "| Feature          | Definition                                                                       |\n",
    "|------------------|----------------------------------------------------------------------------------|\n",
    "| 'date'           | Year, Month, and Day                                                             |\n",
    "| 'timehr'         | hour of the day (1-12)                                                           |\n",
    "| 'timemin'        | minute of the hour (0-59)                                                        |\n",
    "| 'ampm'           | AM or PM indicator                                                               |\n",
    "| 'type'           | type of train (e.g. freight, passenger, work)                                    |\n",
    "| 'state'          | state where the incident occured                                                 |\n",
    "| 'temp'           | temperature in degrees fahrenheight                                              |\n",
    "| 'visibility'     | visibility measured in miles                                                     |\n",
    "| 'weather'        | weather conditions (e.g. clear/PC, rain, fog, snow                               |\n",
    "| 'trnspd'         | train speed in miles per hour                                                    |\n",
    "| 'tons'           | train weight in tons                                                             |\n",
    "| 'loadf1'         | load factor (ratio of weight of train to max allowable weight)                   |\n",
    "| 'emptyf1'        | empty factor (ratio of weight of train to min allowable weight)                  |\n",
    "| 'cause' = target | cause of incident (e.g. human error, electrical/mechanical, signal, track, misc) |\n",
    "| 'acctrk'         | contributing factors related to the track                                        |\n",
    "| 'actrkcl'        | accident classification (e.g. derailment, collision)                             |\n",
    "| 'enghr'          | number of hours worked by the engineer at the time of the incident               |\n",
    "| 'condrhr'        | number of hours worked by the conductor at the time of the incident              |"
   ]
  },
  {
   "cell_type": "code",
   "execution_count": null,
   "id": "2c0d8dba-bd11-41d5-b7e1-b0cbe486a167",
   "metadata": {},
   "outputs": [],
   "source": [
    "# Read in the first CSV file and keep only the column titles\n",
    "df = pd.read_csv('RRD_US_2023.csv', nrows=0)\n",
    "\n",
    "# Loop through the remaining CSV files and stack them on top of the first one\n",
    "for year in range(2022, 2018, -1):\n",
    "    filename = f'RRD_US_{year}.csv'\n",
    "    temp_df = pd.read_csv(filename, header=0)\n",
    "    df = pd.concat([df, temp_df], axis=0, ignore_index=True)\n",
    "\n",
    "# Write the combined CSV file to disk\n",
    "df.to_csv('RRD_US_combined.csv', index=False)"
   ]
  },
  {
   "cell_type": "code",
   "execution_count": null,
   "id": "c1e1e699-9c15-4616-94a6-09a0873dc104",
   "metadata": {},
   "outputs": [],
   "source": [
    "# clean data\n",
    "df = acq.clean_rrd()"
   ]
  },
  {
   "cell_type": "code",
   "execution_count": null,
   "id": "4d7765e7-f684-428a-baf4-2592a8bdac3e",
   "metadata": {},
   "outputs": [],
   "source": [
    "# prepped data\n",
    "df = prep.prep_rrd_data()"
   ]
  },
  {
   "cell_type": "markdown",
   "id": "fac43d94-7c40-47fb-9d93-acfd191f5a1e",
   "metadata": {},
   "source": [
    "# Look at my data"
   ]
  },
  {
   "cell_type": "code",
   "execution_count": null,
   "id": "740e00e3-5e30-4a01-a3ec-2d7cbc86942e",
   "metadata": {
    "scrolled": true,
    "tags": []
   },
   "outputs": [],
   "source": [
    "# look at dataframe\n",
    "df.head(5)"
   ]
  },
  {
   "cell_type": "code",
   "execution_count": null,
   "id": "0726aa7c-38da-4366-9b88-2504fb1a876f",
   "metadata": {
    "scrolled": true,
    "tags": []
   },
   "outputs": [],
   "source": [
    "# look at info\n",
    "df.info()"
   ]
  },
  {
   "cell_type": "code",
   "execution_count": null,
   "id": "1ce81816-c048-49b2-a0d2-420c12e2329e",
   "metadata": {
    "scrolled": true,
    "tags": []
   },
   "outputs": [],
   "source": [
    "## A summary of my data\n",
    "df.describe().T"
   ]
  },
  {
   "cell_type": "code",
   "execution_count": null,
   "id": "6e974e70-7894-46ff-9b81-c6972854b51f",
   "metadata": {},
   "outputs": [],
   "source": [
    "# split and see shape of data\n",
    "train, val, test = prep.split_data(\n",
    "    df, train_size=0.6, val_size=0.2, \n",
    "    test_size=0.2, random_state=123)\n",
    "print('Train shape:', train.shape)\n",
    "print('Validate shape:', val.shape)\n",
    "print('Test shape:', test.shape)"
   ]
  },
  {
   "cell_type": "markdown",
   "id": "21caddef-c553-4714-9ecf-8d04213acf34",
   "metadata": {},
   "source": [
    "## Explore"
   ]
  },
  {
   "cell_type": "markdown",
   "id": "4180518b-1595-46b5-84ae-b41d7811df7e",
   "metadata": {},
   "source": [
    "### Does visibility affect human factor caused accidents?"
   ]
  },
  {
   "cell_type": "code",
   "execution_count": null,
   "id": "facceb8e-5c0d-44a1-9c18-0d51ab3998b1",
   "metadata": {},
   "outputs": [],
   "source": [
    "exp.visibility_plot(train)"
   ]
  },
  {
   "cell_type": "markdown",
   "id": "7695b29f-7910-489c-a787-ee1229a6b94f",
   "metadata": {},
   "source": [
    "* Between >= 1/4 mile and <= 1/2 mile visibility it seems more proportional to the population of accidents, however, when visibility  is >= 1/2 mile it looks like it human factor accidents have a larger proportion of the overall accidents.\n",
    "\n",
    "* The chi-squared test of independence tests the null hypothesis that there is no relationship between the two variables (cause and visibility) in the accident population. If the p-value is less than the significance level (e.g., 0.05), we reject the null hypothesis and conclude that there is a significant relationship between the two variables.\n",
    "\n",
    "* $H0$ = There is a relationship between cause and visibility\n",
    "* $Ha$ = There is a relationship between cause and visibility"
   ]
  },
  {
   "cell_type": "code",
   "execution_count": null,
   "id": "bcc238e7-0fb0-414c-a504-704f4c5b3aa0",
   "metadata": {},
   "outputs": [],
   "source": [
    "# get visibility chi2 stat\n",
    "exp.visibility_stat(train)"
   ]
  },
  {
   "cell_type": "markdown",
   "id": "5ba8495e-90f8-40ca-90a5-3dc41eecce3d",
   "metadata": {},
   "source": [
    "* The p-value is less than the 0.05 alpha. Therefore we reject the null hypothesis and there is evidence of a relationship between cause and visibility. We will send it on to modeling."
   ]
  },
  {
   "cell_type": "markdown",
   "id": "2fbcab5d-67c2-48ba-a935-34bf74bb0533",
   "metadata": {},
   "source": [
    "### Does weather affect human factor caused accidents?"
   ]
  },
  {
   "cell_type": "code",
   "execution_count": null,
   "id": "2d42c51c-3699-4afc-b32c-228a4988d6d4",
   "metadata": {},
   "outputs": [],
   "source": [
    "exp.weather_plot(train)"
   ]
  },
  {
   "cell_type": "markdown",
   "id": "b6b6bf26-ec20-4451-be4f-bea1dc1d343d",
   "metadata": {},
   "source": [
    "* Looking into the different types of weather in the plot it doesn't seem to have much of a disproportion when compared to clear/pc conditions.\n",
    "\n",
    "* The chi-squared test of independence tests the null hypothesis that there is no relationship between the two variables (cause and weather) in the accident population. If the p-value is less than the significance level (e.g., 0.05), we reject the null hypothesis and conclude that there is a significant relationship between the two variables.\n",
    "\n",
    "* $H0$ = There is a relationship between cause and weather\n",
    "* $Ha$ = There is a relationship between cause and weather"
   ]
  },
  {
   "cell_type": "code",
   "execution_count": null,
   "id": "1dfe1c00-beed-4121-bcb8-2c2f0f6596ec",
   "metadata": {},
   "outputs": [],
   "source": [
    "# get weather chi2 stat\n",
    "exp.weather_stat(train)"
   ]
  },
  {
   "cell_type": "markdown",
   "id": "3f13c9c4-773b-44b4-b50a-c6bb027f31bc",
   "metadata": {},
   "source": [
    "* The p-value is slightly less than the 0.05 alpha. Therefore we reject the null hypothesis and there is evidence of a weak relationship between cause and visibility. We will send it on to modeling."
   ]
  },
  {
   "cell_type": "markdown",
   "id": "ebd62dd4-ee72-48ed-a679-ac9d793a2072",
   "metadata": {},
   "source": [
    "### Does conductor work hours affect human factor caused accidents?"
   ]
  },
  {
   "cell_type": "code",
   "execution_count": null,
   "id": "5a9390d4-3c63-4008-94f5-f131db8af40a",
   "metadata": {},
   "outputs": [],
   "source": [
    "# get conductor hours plot\n",
    "exp.cdthr_plot(train)"
   ]
  },
  {
   "cell_type": "markdown",
   "id": "4fc77e02-7583-4e91-91eb-253c041a8a17",
   "metadata": {},
   "source": [
    "* It seems there is a slightly higher mean for human factor accidents over other.\n",
    "\n",
    "* The mann_whitney tests the null hypothesis that there is no difference between the means of the two groups (cause and cdtrhr) in the population. If the p-value is less than the significance level (e.g., 0.05), we reject the null hypothesis and conclude that there is a significant difference between the means of the two groups.\n",
    "\n",
    "* $H0$ = There is no difference between cdtrhr hours means for those who had human factor accidents and those that were not human factor accidents\n",
    "* $Ha$ = There is a difference between cdtrhr hours means for those who had human factor accidents and those that were not human factor accidents"
   ]
  },
  {
   "cell_type": "code",
   "execution_count": null,
   "id": "a288b12e-cdd1-4357-bd3a-58e23d70c543",
   "metadata": {},
   "outputs": [],
   "source": [
    "# get conductor hours Mann-Whit stat\n",
    "exp.cdtrhr_stat(train)"
   ]
  },
  {
   "cell_type": "markdown",
   "id": "2679aa79-258c-45c8-b1f8-0578d7a6a3da",
   "metadata": {},
   "source": [
    "* The p-value is less than the 0.05 significance level so we will reject the null hypothesis and will send train conductor hours to modeling"
   ]
  },
  {
   "cell_type": "markdown",
   "id": "67a2b01d-a5e4-457b-ae3c-a0cb21547505",
   "metadata": {},
   "source": [
    "### Does train speed affect human factor caused accidents?"
   ]
  },
  {
   "cell_type": "code",
   "execution_count": null,
   "id": "cb862ff1-1b3c-49e1-bb53-beeb8c0f4941",
   "metadata": {},
   "outputs": [],
   "source": [
    "# get trainspeed plot\n",
    "exp.trnspd_plot(train)"
   ]
  },
  {
   "cell_type": "markdown",
   "id": "1d0f3417-8bb0-4fa2-bcfe-759b78946a31",
   "metadata": {},
   "source": [
    "* It visually seems there is no difference concerning trainspeed when it comes to human factor accidents means and actually it looks less than all other accidents.\n",
    "\n",
    "* The mann-whitney tests the null hypothesis that there is difference between the means of the two groups (cause and trnspd) in the population. If the p-value is less than the significance level (e.g., 0.05), we reject the null hypothesis and conclude that there is a significant difference between the means of the two groups.\n",
    "\n",
    "* $H0$ = There is no difference between trnspd hours means for those who had human factor accidents and those that were not human factor accidents\n",
    "* $Ha$ = There is a difference between trnspd hours means for those who had human factor accidents and those that were not human factor accidents"
   ]
  },
  {
   "cell_type": "code",
   "execution_count": null,
   "id": "bb68f306-5eb1-48e3-88f1-847ea1a51e00",
   "metadata": {},
   "outputs": [],
   "source": [
    "# get trainspeed stat test\n",
    "exp.trnspd_stat(train)"
   ]
  },
  {
   "cell_type": "markdown",
   "id": "4db2ac2e-7c7a-48ec-aac2-61461b0b41e9",
   "metadata": {},
   "source": [
    "* The p-value is less than the 0.05 significance level so we reject the null hypothesis and will send train speed to modeling"
   ]
  },
  {
   "cell_type": "markdown",
   "id": "7b63704d-ab3b-4574-b5c6-479ee8abe583",
   "metadata": {},
   "source": [
    "### Exploration Summary\n",
    "* visibility has a relationship with cause (human factor) with a p value of: 4.350195748698547e-05\n",
    "* weather has a weak relationship with cause (human factor) with a p value of: 0.00013986800540663016\n",
    "* The p-value is less than the 0.05 significance level so we will reject the null hypothesis and will send train conductor hours to modeling. p value: 0.005661266681436928\n",
    "* The p-value is less than the 0.05 significance level so we reject the null hypothesis and will send train speed to modeling. p value: 2.1638787633218512e-77"
   ]
  },
  {
   "cell_type": "markdown",
   "id": "e44f65b9-6066-4fbc-9714-c7a7553254bd",
   "metadata": {},
   "source": [
    "## Modeling\n",
    "* The purpose of modeling the features I have selected is to find the most accurate model for predicting whether or not a customer will churn.\n",
    "* The baseline accuracy we are trying to beat is 58%. I will be using a Decision Tree, Random Forest, Logistic Regression, and KNearest models to try to find the best model. I will also be using a grid search to find the optimal hyperparameters with the highest accuracy scores."
   ]
  },
  {
   "cell_type": "markdown",
   "id": "0d47ef96-a64d-41ba-a86c-a257cb0d4e1e",
   "metadata": {},
   "source": [
    "### Features I will model\n",
    "* Visibility\n",
    "* Weather\n",
    "* Conductor Hours\n",
    "* Train Speed"
   ]
  },
  {
   "cell_type": "markdown",
   "id": "d53ff6b7-b454-4205-84fc-9ea7a7c91fd4",
   "metadata": {},
   "source": [
    "### Prep Data for Modeling"
   ]
  },
  {
   "cell_type": "code",
   "execution_count": null,
   "id": "e2bc209e-96c7-4751-8d6e-a9bece6fc352",
   "metadata": {},
   "outputs": [],
   "source": [
    "#calculate baseline accuracy\n",
    "baseline_accuracy = 3498 / (3498+2441)\n",
    "baseline_accuracy"
   ]
  },
  {
   "cell_type": "code",
   "execution_count": null,
   "id": "17526f6d-b48c-43c7-a99e-e5e37e7b0adf",
   "metadata": {},
   "outputs": [],
   "source": [
    "# Get X_train\n",
    "X_train, X_val, X_test, y_train, y_val, y_test = prep.X_train_data(train, val, test)"
   ]
  },
  {
   "cell_type": "code",
   "execution_count": null,
   "id": "ea006e0c-50d9-4c18-b64b-3c7affcf79ee",
   "metadata": {
    "tags": []
   },
   "outputs": [],
   "source": [
    "# Create X_train scaled\n",
    "X_train_scaled, y_train, X_val_scaled, y_val, X_test_scaled, y_test = prep.scaled_data(X_train, X_val, X_test, y_train, y_val, y_test)\n"
   ]
  },
  {
   "cell_type": "markdown",
   "id": "80b00652-b4f5-4ab4-b2e0-588c51456cd9",
   "metadata": {},
   "source": [
    "### Decision Tree Classifier"
   ]
  },
  {
   "cell_type": "code",
   "execution_count": null,
   "id": "98e448be-38b4-4ace-97c4-f3d2b3cf1e36",
   "metadata": {},
   "outputs": [],
   "source": [
    "# Get Decision Tree Classifier\n",
    "exp.DTC_model(X_train_scaled, y_train, X_val_scaled, y_val, X_test_scaled, y_test)"
   ]
  },
  {
   "cell_type": "markdown",
   "id": "1da88327-800b-4aeb-9543-6910294e171d",
   "metadata": {},
   "source": [
    "### Random Forest Classifier"
   ]
  },
  {
   "cell_type": "code",
   "execution_count": null,
   "id": "c8f863f9-2385-4b25-ba78-b00746510e1b",
   "metadata": {},
   "outputs": [],
   "source": [
    "exp.RF_model(X_train_scaled, y_train, X_val_scaled,\n",
    "         y_val, X_test_scaled, y_test)"
   ]
  },
  {
   "cell_type": "markdown",
   "id": "90ebfae2-3441-4687-8f6e-5f241f92ffb9",
   "metadata": {},
   "source": [
    "### Logistic Regression"
   ]
  },
  {
   "cell_type": "code",
   "execution_count": null,
   "id": "3077ec38-85f8-4637-8e4a-467587cbb3e6",
   "metadata": {},
   "outputs": [],
   "source": []
  },
  {
   "cell_type": "markdown",
   "id": "167b4535-80b0-44ca-be30-30e04e7b706d",
   "metadata": {},
   "source": [
    "### KNN Model"
   ]
  },
  {
   "cell_type": "code",
   "execution_count": null,
   "id": "9afd796e-4ff2-4173-a36c-d77312d4635d",
   "metadata": {},
   "outputs": [],
   "source": []
  }
 ],
 "metadata": {
  "kernelspec": {
   "display_name": "Python 3 (ipykernel)",
   "language": "python",
   "name": "python3"
  },
  "language_info": {
   "codemirror_mode": {
    "name": "ipython",
    "version": 3
   },
   "file_extension": ".py",
   "mimetype": "text/x-python",
   "name": "python",
   "nbconvert_exporter": "python",
   "pygments_lexer": "ipython3",
   "version": "3.9.13"
  }
 },
 "nbformat": 4,
 "nbformat_minor": 5
}
